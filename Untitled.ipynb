{
 "cells": [
  {
   "cell_type": "code",
   "execution_count": 30,
   "id": "007c95e9",
   "metadata": {},
   "outputs": [],
   "source": [
    "import numpy as np\n",
    "import pandas as pd\n",
    "import seaborn as sns\n",
    "from matplotlib import pyplot as plt\n",
    "\n",
    "from sklearn.linear_model import LinearRegression\n",
    "from sklearn.metrics import mean_squared_error\n",
    "from sklearn.model_selection import TimeSeriesSplit"
   ]
  },
  {
   "cell_type": "markdown",
   "id": "f0aa37aa",
   "metadata": {},
   "source": [
    "# Next steps\n",
    "\n",
    "* EDA\n",
    "* Feature Engineering\n",
    "* Prediction"
   ]
  },
  {
   "cell_type": "code",
   "execution_count": 41,
   "id": "a8bbe14c",
   "metadata": {
    "scrolled": true
   },
   "outputs": [
    {
     "data": {
      "text/html": [
       "<div>\n",
       "<style scoped>\n",
       "    .dataframe tbody tr th:only-of-type {\n",
       "        vertical-align: middle;\n",
       "    }\n",
       "\n",
       "    .dataframe tbody tr th {\n",
       "        vertical-align: top;\n",
       "    }\n",
       "\n",
       "    .dataframe thead th {\n",
       "        text-align: right;\n",
       "    }\n",
       "</style>\n",
       "<table border=\"1\" class=\"dataframe\">\n",
       "  <thead>\n",
       "    <tr style=\"text-align: right;\">\n",
       "      <th></th>\n",
       "      <th>IBOV</th>\n",
       "      <th>Dol</th>\n",
       "      <th>NDX</th>\n",
       "      <th>SPX</th>\n",
       "      <th>Fluxo</th>\n",
       "    </tr>\n",
       "    <tr>\n",
       "      <th>DT_COMPTC</th>\n",
       "      <th></th>\n",
       "      <th></th>\n",
       "      <th></th>\n",
       "      <th></th>\n",
       "      <th></th>\n",
       "    </tr>\n",
       "  </thead>\n",
       "  <tbody>\n",
       "    <tr>\n",
       "      <th>2005-01-03</th>\n",
       "      <td>25722.0</td>\n",
       "      <td>2.6759</td>\n",
       "      <td>1603.51</td>\n",
       "      <td>1202.08</td>\n",
       "      <td>20.621</td>\n",
       "    </tr>\n",
       "    <tr>\n",
       "      <th>2005-01-04</th>\n",
       "      <td>24848.0</td>\n",
       "      <td>2.7190</td>\n",
       "      <td>1571.83</td>\n",
       "      <td>1188.05</td>\n",
       "      <td>3.777</td>\n",
       "    </tr>\n",
       "    <tr>\n",
       "      <th>2005-01-05</th>\n",
       "      <td>24691.8</td>\n",
       "      <td>2.7140</td>\n",
       "      <td>1563.76</td>\n",
       "      <td>1183.74</td>\n",
       "      <td>2.692</td>\n",
       "    </tr>\n",
       "    <tr>\n",
       "      <th>2005-01-06</th>\n",
       "      <td>24366.9</td>\n",
       "      <td>2.7218</td>\n",
       "      <td>1557.52</td>\n",
       "      <td>1187.89</td>\n",
       "      <td>14.528</td>\n",
       "    </tr>\n",
       "    <tr>\n",
       "      <th>2005-01-07</th>\n",
       "      <td>24747.2</td>\n",
       "      <td>2.7120</td>\n",
       "      <td>1564.81</td>\n",
       "      <td>1186.19</td>\n",
       "      <td>-2.328</td>\n",
       "    </tr>\n",
       "    <tr>\n",
       "      <th>...</th>\n",
       "      <td>...</td>\n",
       "      <td>...</td>\n",
       "      <td>...</td>\n",
       "      <td>...</td>\n",
       "      <td>...</td>\n",
       "    </tr>\n",
       "    <tr>\n",
       "      <th>2021-05-13</th>\n",
       "      <td>120705.9</td>\n",
       "      <td>5.3087</td>\n",
       "      <td>13109.15</td>\n",
       "      <td>4112.50</td>\n",
       "      <td>252.986</td>\n",
       "    </tr>\n",
       "    <tr>\n",
       "      <th>2021-05-14</th>\n",
       "      <td>121880.8</td>\n",
       "      <td>5.2728</td>\n",
       "      <td>13393.12</td>\n",
       "      <td>4173.85</td>\n",
       "      <td>286.348</td>\n",
       "    </tr>\n",
       "    <tr>\n",
       "      <th>2021-05-17</th>\n",
       "      <td>122937.9</td>\n",
       "      <td>5.2751</td>\n",
       "      <td>13312.91</td>\n",
       "      <td>4163.29</td>\n",
       "      <td>-127.213</td>\n",
       "    </tr>\n",
       "    <tr>\n",
       "      <th>2021-05-18</th>\n",
       "      <td>122980.0</td>\n",
       "      <td>5.2613</td>\n",
       "      <td>13217.68</td>\n",
       "      <td>4127.83</td>\n",
       "      <td>378.025</td>\n",
       "    </tr>\n",
       "    <tr>\n",
       "      <th>2021-05-19</th>\n",
       "      <td>122636.3</td>\n",
       "      <td>5.3105</td>\n",
       "      <td>13237.91</td>\n",
       "      <td>4115.68</td>\n",
       "      <td>85.145</td>\n",
       "    </tr>\n",
       "  </tbody>\n",
       "</table>\n",
       "<p>4121 rows × 5 columns</p>\n",
       "</div>"
      ],
      "text/plain": [
       "                IBOV     Dol       NDX      SPX    Fluxo\n",
       "DT_COMPTC                                               \n",
       "2005-01-03   25722.0  2.6759   1603.51  1202.08   20.621\n",
       "2005-01-04   24848.0  2.7190   1571.83  1188.05    3.777\n",
       "2005-01-05   24691.8  2.7140   1563.76  1183.74    2.692\n",
       "2005-01-06   24366.9  2.7218   1557.52  1187.89   14.528\n",
       "2005-01-07   24747.2  2.7120   1564.81  1186.19   -2.328\n",
       "...              ...     ...       ...      ...      ...\n",
       "2021-05-13  120705.9  5.3087  13109.15  4112.50  252.986\n",
       "2021-05-14  121880.8  5.2728  13393.12  4173.85  286.348\n",
       "2021-05-17  122937.9  5.2751  13312.91  4163.29 -127.213\n",
       "2021-05-18  122980.0  5.2613  13217.68  4127.83  378.025\n",
       "2021-05-19  122636.3  5.3105  13237.91  4115.68   85.145\n",
       "\n",
       "[4121 rows x 5 columns]"
      ]
     },
     "execution_count": 41,
     "metadata": {},
     "output_type": "execute_result"
    }
   ],
   "source": [
    "train = pd.read_csv(\"train.csv\").set_index('DT_COMPTC')\n",
    "train"
   ]
  },
  {
   "cell_type": "code",
   "execution_count": 42,
   "id": "5633b050",
   "metadata": {},
   "outputs": [
    {
     "data": {
      "text/html": [
       "<div>\n",
       "<style scoped>\n",
       "    .dataframe tbody tr th:only-of-type {\n",
       "        vertical-align: middle;\n",
       "    }\n",
       "\n",
       "    .dataframe tbody tr th {\n",
       "        vertical-align: top;\n",
       "    }\n",
       "\n",
       "    .dataframe thead th {\n",
       "        text-align: right;\n",
       "    }\n",
       "</style>\n",
       "<table border=\"1\" class=\"dataframe\">\n",
       "  <thead>\n",
       "    <tr style=\"text-align: right;\">\n",
       "      <th></th>\n",
       "      <th>IBOV</th>\n",
       "      <th>Dol</th>\n",
       "      <th>NDX</th>\n",
       "      <th>SPX</th>\n",
       "    </tr>\n",
       "    <tr>\n",
       "      <th>DT_COMPTC</th>\n",
       "      <th></th>\n",
       "      <th></th>\n",
       "      <th></th>\n",
       "      <th></th>\n",
       "    </tr>\n",
       "  </thead>\n",
       "  <tbody>\n",
       "    <tr>\n",
       "      <th>2021-05-19</th>\n",
       "      <td>122636.30</td>\n",
       "      <td>5.3105</td>\n",
       "      <td>13237.91</td>\n",
       "      <td>4115.68</td>\n",
       "    </tr>\n",
       "    <tr>\n",
       "      <th>2021-05-20</th>\n",
       "      <td>122700.80</td>\n",
       "      <td>5.2846</td>\n",
       "      <td>13494.09</td>\n",
       "      <td>4159.12</td>\n",
       "    </tr>\n",
       "    <tr>\n",
       "      <th>2021-05-21</th>\n",
       "      <td>122592.50</td>\n",
       "      <td>5.3662</td>\n",
       "      <td>13411.74</td>\n",
       "      <td>4155.86</td>\n",
       "    </tr>\n",
       "    <tr>\n",
       "      <th>2021-05-24</th>\n",
       "      <td>124031.60</td>\n",
       "      <td>5.3185</td>\n",
       "      <td>13641.75</td>\n",
       "      <td>4197.05</td>\n",
       "    </tr>\n",
       "    <tr>\n",
       "      <th>2021-05-25</th>\n",
       "      <td>122987.70</td>\n",
       "      <td>5.3320</td>\n",
       "      <td>13657.73</td>\n",
       "      <td>4188.13</td>\n",
       "    </tr>\n",
       "    <tr>\n",
       "      <th>...</th>\n",
       "      <td>...</td>\n",
       "      <td>...</td>\n",
       "      <td>...</td>\n",
       "      <td>...</td>\n",
       "    </tr>\n",
       "    <tr>\n",
       "      <th>2022-07-20</th>\n",
       "      <td>98286.83</td>\n",
       "      <td>5.4704</td>\n",
       "      <td>12439.68</td>\n",
       "      <td>3959.90</td>\n",
       "    </tr>\n",
       "    <tr>\n",
       "      <th>2022-07-21</th>\n",
       "      <td>99033.17</td>\n",
       "      <td>5.4988</td>\n",
       "      <td>12619.41</td>\n",
       "      <td>3998.95</td>\n",
       "    </tr>\n",
       "    <tr>\n",
       "      <th>2022-07-22</th>\n",
       "      <td>98924.82</td>\n",
       "      <td>5.4976</td>\n",
       "      <td>12396.47</td>\n",
       "      <td>3961.63</td>\n",
       "    </tr>\n",
       "    <tr>\n",
       "      <th>2022-07-25</th>\n",
       "      <td>100269.85</td>\n",
       "      <td>5.3589</td>\n",
       "      <td>12328.41</td>\n",
       "      <td>3966.84</td>\n",
       "    </tr>\n",
       "    <tr>\n",
       "      <th>2022-07-26</th>\n",
       "      <td>99771.69</td>\n",
       "      <td>5.3497</td>\n",
       "      <td>12086.90</td>\n",
       "      <td>3921.05</td>\n",
       "    </tr>\n",
       "  </tbody>\n",
       "</table>\n",
       "<p>300 rows × 4 columns</p>\n",
       "</div>"
      ],
      "text/plain": [
       "                 IBOV     Dol       NDX      SPX\n",
       "DT_COMPTC                                       \n",
       "2021-05-19  122636.30  5.3105  13237.91  4115.68\n",
       "2021-05-20  122700.80  5.2846  13494.09  4159.12\n",
       "2021-05-21  122592.50  5.3662  13411.74  4155.86\n",
       "2021-05-24  124031.60  5.3185  13641.75  4197.05\n",
       "2021-05-25  122987.70  5.3320  13657.73  4188.13\n",
       "...               ...     ...       ...      ...\n",
       "2022-07-20   98286.83  5.4704  12439.68  3959.90\n",
       "2022-07-21   99033.17  5.4988  12619.41  3998.95\n",
       "2022-07-22   98924.82  5.4976  12396.47  3961.63\n",
       "2022-07-25  100269.85  5.3589  12328.41  3966.84\n",
       "2022-07-26   99771.69  5.3497  12086.90  3921.05\n",
       "\n",
       "[300 rows x 4 columns]"
      ]
     },
     "execution_count": 42,
     "metadata": {},
     "output_type": "execute_result"
    }
   ],
   "source": [
    "test = pd.read_csv(\"test.csv\").set_index('DT_COMPTC')\n",
    "test"
   ]
  },
  {
   "cell_type": "code",
   "execution_count": 43,
   "id": "c806fc84",
   "metadata": {},
   "outputs": [
    {
     "data": {
      "image/png": "[encoded data removed]",
      "text/plain": [
       "<Figure size 432x288 with 4 Axes>"
      ]
     },
     "metadata": {
      "needs_background": "light"
     },
     "output_type": "display_data"
    }
   ],
   "source": [
    "for i,c in enumerate(test.columns):\n",
    "    ax1 = plt.subplot(2, 2, i+1)\n",
    "    sns.lineplot(x=train.index, y=train[c])\n",
    "    sns.lineplot(x=test.index, y=test[c])"
   ]
  },
  {
   "cell_type": "code",
   "execution_count": 44,
   "id": "612fd178",
   "metadata": {},
   "outputs": [
    {
     "data": {
      "text/plain": [
       "<AxesSubplot:xlabel='DT_COMPTC', ylabel='Fluxo'>"
      ]
     },
     "execution_count": 44,
     "metadata": {},
     "output_type": "execute_result"
    },
    {
     "data": {
      "image/png": "[encoded data removed]",
      "text/plain": [
       "<Figure size 432x288 with 1 Axes>"
      ]
     },
     "metadata": {
      "needs_background": "light"
     },
     "output_type": "display_data"
    }
   ],
   "source": [
    "sns.lineplot(x=train.index, y=train['Fluxo'])"
   ]
  },
  {
   "cell_type": "code",
   "execution_count": 46,
   "id": "5523a54e",
   "metadata": {},
   "outputs": [
    {
     "name": "stdout",
     "output_type": "stream",
     "text": [
      "TRAIN RANGE 2005-01-03 to 2007-10-03\n",
      "TEST RANGE 2007-10-04 to 2010-06-30\n",
      "SCORE:  39857.56178983306\n",
      "\n",
      "TRAIN RANGE 2005-01-03 to 2010-06-30\n",
      "TEST RANGE 2010-07-01 to 2013-03-22\n",
      "SCORE:  36545.178145461825\n",
      "\n",
      "TRAIN RANGE 2005-01-03 to 2013-03-22\n",
      "TEST RANGE 2013-03-25 to 2015-12-10\n",
      "SCORE:  50196.31902835807\n",
      "\n",
      "TRAIN RANGE 2005-01-03 to 2015-12-10\n",
      "TEST RANGE 2015-12-11 to 2018-09-05\n",
      "SCORE:  162350.53552513238\n",
      "\n",
      "TRAIN RANGE 2005-01-03 to 2018-09-05\n",
      "TEST RANGE 2018-09-06 to 2021-05-19\n",
      "SCORE:  3325057.402643345\n",
      "\n"
     ]
    }
   ],
   "source": [
    "\n",
    "X, y = train.drop(columns='Fluxo'), train['Fluxo'] \n",
    "\n",
    "tscv = TimeSeriesSplit()\n",
    "reg = LinearRegression()\n",
    "\n",
    "for train_index, test_index in tscv.split(X):\n",
    "        X_train, X_test = X.iloc[train_index], X.iloc[test_index]\n",
    "        y_train, y_test = y.iloc[train_index], y.iloc[test_index]\n",
    "        \n",
    "        print(\"TRAIN RANGE\", X_train.index[0], \"to\", X_train.index[-1])\n",
    "        print(\"TEST RANGE\", X_test.index[0], \"to\", X_test.index[-1])\n",
    "        \n",
    "        reg.fit(X_train, y_train)\n",
    "        print(\"SCORE: \",mean_squared_error(reg.predict(X_test), y_test))\n",
    "        print()"
   ]
  },
  {
   "cell_type": "code",
   "execution_count": 52,
   "id": "6a78aa7b",
   "metadata": {},
   "outputs": [],
   "source": [
    "reg.fit(X, y)\n",
    "pd.DataFrame(reg.predict(test), columns=['Fluxo'], index=test.index).to_csv('pred.csv',index='DT_COMPTC')"
   ]
  },
  {
   "cell_type": "code",
   "execution_count": null,
   "id": "3a81420d",
   "metadata": {},
   "outputs": [],
   "source": []
  }
 ],
 "metadata": {
  "kernelspec": {
   "display_name": "Python 3 (ipykernel)",
   "language": "python",
   "name": "python3"
  },
  "language_info": {
   "codemirror_mode": {
    "name": "ipython",
    "version": 3
   },
   "file_extension": ".py",
   "mimetype": "text/x-python",
   "name": "python",
   "nbconvert_exporter": "python",
   "pygments_lexer": "ipython3",
   "version": "3.10.4"
  }
 },
 "nbformat": 4,
 "nbformat_minor": 5
}
